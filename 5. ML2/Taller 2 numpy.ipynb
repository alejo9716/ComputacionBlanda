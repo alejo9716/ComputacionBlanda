{
 "cells": [
  {
   "cell_type": "code",
   "execution_count": 55,
   "metadata": {},
   "outputs": [],
   "source": [
    "# COMPUTACIÓN BLANDA - Sistemas y Computación\n",
    "# ------------------------------------------- \n",
    "# Introducción a numpy # ------------------------------------------- \n",
    "# Lección 02\n",
    "## ** Técnicas de apilamiento # ** División de arrays \n",
    "#** Propiedades de arrays \n",
    "##-------------------------------------------\n",
    "#Editado por: Alejandro Rios - 1088035801"
   ]
  },
  {
   "cell_type": "code",
   "execution_count": 56,
   "metadata": {},
   "outputs": [
    {
     "name": "stdout",
     "output_type": "stream",
     "text": [
      "a =\n",
      " [[ 0  1  2  3  4]\n",
      " [ 5  6  7  8  9]\n",
      " [10 11 12 13 14]\n",
      " [15 16 17 18 19]\n",
      " [20 21 22 23 24]] \n",
      "\n",
      "b =\n",
      " [[ 0  2  4  6  8]\n",
      " [10 12 14 16 18]\n",
      " [20 22 24 26 28]\n",
      " [30 32 34 36 38]\n",
      " [40 42 44 46 48]]\n"
     ]
    }
   ],
   "source": [
    "# Se importa la librería numpy\n",
    "import numpy as np\n",
    "# APILAMIENTO \n",
    "# ----------- \n",
    "# Apilado \n",
    "# Las matrices se pueden apilar horizontalmente, en profundidad o \n",
    "# verticalmente. Podemos utilizar, para ese propósito, \n",
    "# las funciones vstack, dstack, hstack, column_stack, row_stack y concatenate.\n",
    "# Para empezar, vamos a crear dos arrays\n",
    "# Matriz a \n",
    "a = np.arange(25).reshape(5,5) \n",
    "print('a =\\n', a, '\\n')\n",
    "# Matriz b, creada a partir de la matriz a \n",
    "b = a*2 \n",
    "print('b =\\n', b)\n",
    "# Utilizaremos estas dos matrices para mostrar los mecanismos \n",
    "# de apilamiento disponibles"
   ]
  },
  {
   "cell_type": "code",
   "execution_count": 57,
   "metadata": {},
   "outputs": [
    {
     "name": "stdout",
     "output_type": "stream",
     "text": [
      "a =\n",
      " [[ 0  1  2  3  4]\n",
      " [ 5  6  7  8  9]\n",
      " [10 11 12 13 14]\n",
      " [15 16 17 18 19]\n",
      " [20 21 22 23 24]] \n",
      "\n",
      "b =\n",
      " [[ 0  2  4  6  8]\n",
      " [10 12 14 16 18]\n",
      " [20 22 24 26 28]\n",
      " [30 32 34 36 38]\n",
      " [40 42 44 46 48]] \n",
      "\n",
      "Apilamiento horizontal =\n",
      " [[ 0  1  2  3  4  0  2  4  6  8]\n",
      " [ 5  6  7  8  9 10 12 14 16 18]\n",
      " [10 11 12 13 14 20 22 24 26 28]\n",
      " [15 16 17 18 19 30 32 34 36 38]\n",
      " [20 21 22 23 24 40 42 44 46 48]]\n"
     ]
    }
   ],
   "source": [
    "# APILAMIENTO HORIZONTAL\n",
    "# Matrices origen \n",
    "print('a =\\n', a, '\\n') \n",
    "print('b =\\n', b, '\\n')\n",
    "# Apilamiento horizontal \n",
    "print('Apilamiento horizontal =\\n', np.hstack((a,b)) )"
   ]
  },
  {
   "cell_type": "code",
   "execution_count": 58,
   "metadata": {},
   "outputs": [
    {
     "name": "stdout",
     "output_type": "stream",
     "text": [
      "a =\n",
      " [[ 0  1  2  3  4]\n",
      " [ 5  6  7  8  9]\n",
      " [10 11 12 13 14]\n",
      " [15 16 17 18 19]\n",
      " [20 21 22 23 24]] \n",
      "\n",
      "b =\n",
      " [[ 0  2  4  6  8]\n",
      " [10 12 14 16 18]\n",
      " [20 22 24 26 28]\n",
      " [30 32 34 36 38]\n",
      " [40 42 44 46 48]] \n",
      "\n",
      "Apilamiento horizontal con concatenate = \n",
      " [[ 0  1  2  3  4  0  2  4  6  8]\n",
      " [ 5  6  7  8  9 10 12 14 16 18]\n",
      " [10 11 12 13 14 20 22 24 26 28]\n",
      " [15 16 17 18 19 30 32 34 36 38]\n",
      " [20 21 22 23 24 40 42 44 46 48]]\n"
     ]
    }
   ],
   "source": [
    "# APILAMIENTO HORIZONTAL - Variante\n",
    "# Utilización de la función: concatenate()\n",
    "# Matrices origen \n",
    "print('a =\\n', a, '\\n') \n",
    "print('b =\\n', b, '\\n')\n",
    "# Apilamiento horizontal \n",
    "print( 'Apilamiento horizontal con concatenate = \\n', np.concatenate((a,b), axis=1) )\n",
    "# Si axis=1, el apilamiento es horizontal"
   ]
  },
  {
   "cell_type": "code",
   "execution_count": 59,
   "metadata": {},
   "outputs": [
    {
     "name": "stdout",
     "output_type": "stream",
     "text": [
      "a =\n",
      " [[ 0  1  2  3  4]\n",
      " [ 5  6  7  8  9]\n",
      " [10 11 12 13 14]\n",
      " [15 16 17 18 19]\n",
      " [20 21 22 23 24]] \n",
      "\n",
      "b =\n",
      " [[ 0  2  4  6  8]\n",
      " [10 12 14 16 18]\n",
      " [20 22 24 26 28]\n",
      " [30 32 34 36 38]\n",
      " [40 42 44 46 48]] \n",
      "\n",
      "Apilamiento vertical =\n",
      " [[ 0  1  2  3  4]\n",
      " [ 5  6  7  8  9]\n",
      " [10 11 12 13 14]\n",
      " [15 16 17 18 19]\n",
      " [20 21 22 23 24]\n",
      " [ 0  2  4  6  8]\n",
      " [10 12 14 16 18]\n",
      " [20 22 24 26 28]\n",
      " [30 32 34 36 38]\n",
      " [40 42 44 46 48]]\n"
     ]
    }
   ],
   "source": [
    "# APILAMIENTO VERTICAL\n",
    "# Matrices origen \n",
    "print('a =\\n', a, '\\n') \n",
    "print('b =\\n', b, '\\n')\n",
    "# Apilamiento vertical \n",
    "print( 'Apilamiento vertical =\\n', np.vstack((a,b)) )"
   ]
  },
  {
   "cell_type": "code",
   "execution_count": 60,
   "metadata": {},
   "outputs": [
    {
     "name": "stdout",
     "output_type": "stream",
     "text": [
      "a =\n",
      " [[ 0  1  2  3  4]\n",
      " [ 5  6  7  8  9]\n",
      " [10 11 12 13 14]\n",
      " [15 16 17 18 19]\n",
      " [20 21 22 23 24]] \n",
      "\n",
      "b =\n",
      " [[ 0  2  4  6  8]\n",
      " [10 12 14 16 18]\n",
      " [20 22 24 26 28]\n",
      " [30 32 34 36 38]\n",
      " [40 42 44 46 48]] \n",
      "\n",
      "Apilamiento vertical con concatenate =\n",
      " [[ 0  1  2  3  4]\n",
      " [ 5  6  7  8  9]\n",
      " [10 11 12 13 14]\n",
      " [15 16 17 18 19]\n",
      " [20 21 22 23 24]\n",
      " [ 0  2  4  6  8]\n",
      " [10 12 14 16 18]\n",
      " [20 22 24 26 28]\n",
      " [30 32 34 36 38]\n",
      " [40 42 44 46 48]]\n"
     ]
    }
   ],
   "source": [
    "# APILAMIENTO VERTICAL - Variante\n",
    "# Utilización de la función: concatenate()\n",
    "# Matrices origen \n",
    "print('a =\\n', a, '\\n') \n",
    "print('b =\\n', b, '\\n')\n",
    "# Apilamiento vertical \n",
    "print( 'Apilamiento vertical con concatenate =\\n', np.concatenate((a,b), axis=0) )\n",
    "# Si axis=0, el apilamiento es vertical"
   ]
  },
  {
   "cell_type": "code",
   "execution_count": 61,
   "metadata": {},
   "outputs": [
    {
     "name": "stdout",
     "output_type": "stream",
     "text": [
      "a =\n",
      " [[ 0  1  2  3  4]\n",
      " [ 5  6  7  8  9]\n",
      " [10 11 12 13 14]\n",
      " [15 16 17 18 19]\n",
      " [20 21 22 23 24]] \n",
      "\n",
      "b =\n",
      " [[ 0  2  4  6  8]\n",
      " [10 12 14 16 18]\n",
      " [20 22 24 26 28]\n",
      " [30 32 34 36 38]\n",
      " [40 42 44 46 48]] \n",
      "\n",
      "Apilamiento en profundidad =\n",
      " [[[ 0  0]\n",
      "  [ 1  2]\n",
      "  [ 2  4]\n",
      "  [ 3  6]\n",
      "  [ 4  8]]\n",
      "\n",
      " [[ 5 10]\n",
      "  [ 6 12]\n",
      "  [ 7 14]\n",
      "  [ 8 16]\n",
      "  [ 9 18]]\n",
      "\n",
      " [[10 20]\n",
      "  [11 22]\n",
      "  [12 24]\n",
      "  [13 26]\n",
      "  [14 28]]\n",
      "\n",
      " [[15 30]\n",
      "  [16 32]\n",
      "  [17 34]\n",
      "  [18 36]\n",
      "  [19 38]]\n",
      "\n",
      " [[20 40]\n",
      "  [21 42]\n",
      "  [22 44]\n",
      "  [23 46]\n",
      "  [24 48]]]\n"
     ]
    }
   ],
   "source": [
    " # APILAMIENTO EN PROFUNDIDAD\n",
    "# En el apilamiento en profundidad, se crean bloques utilizando \n",
    "# parejas de datos tomados de las dos matrices\n",
    "# Matrices origen \n",
    "print('a =\\n', a, '\\n') \n",
    "print('b =\\n', b, '\\n')\n",
    "# Apilamiento en profundidad \n",
    "print( 'Apilamiento en profundidad =\\n', np.dstack((a,b)) )"
   ]
  },
  {
   "cell_type": "code",
   "execution_count": 62,
   "metadata": {},
   "outputs": [
    {
     "name": "stdout",
     "output_type": "stream",
     "text": [
      "a =\n",
      " [[ 0  1  2  3  4]\n",
      " [ 5  6  7  8  9]\n",
      " [10 11 12 13 14]\n",
      " [15 16 17 18 19]\n",
      " [20 21 22 23 24]] \n",
      "\n",
      "b =\n",
      " [[ 0  2  4  6  8]\n",
      " [10 12 14 16 18]\n",
      " [20 22 24 26 28]\n",
      " [30 32 34 36 38]\n",
      " [40 42 44 46 48]] \n",
      "\n",
      "Apilamiento por columnas =\n",
      " [[ 0  1  2  3  4  0  2  4  6  8]\n",
      " [ 5  6  7  8  9 10 12 14 16 18]\n",
      " [10 11 12 13 14 20 22 24 26 28]\n",
      " [15 16 17 18 19 30 32 34 36 38]\n",
      " [20 21 22 23 24 40 42 44 46 48]]\n"
     ]
    }
   ],
   "source": [
    "# APILAMIENTO POR COLUMNAS\n",
    "# El apilamiento por columnas es similar a hstack()\n",
    "# Se apilan las columnas, de izquierda a derecha, y tomándolas \n",
    "# de los bloques definidos en la matriz\n",
    "# Matrices origen \n",
    "print('a =\\n', a, '\\n') \n",
    "print('b =\\n', b, '\\n')\n",
    "# Apilamiento vertical \n",
    "print( 'Apilamiento por columnas =\\n', np.column_stack((a,b)) )"
   ]
  },
  {
   "cell_type": "code",
   "execution_count": 63,
   "metadata": {},
   "outputs": [
    {
     "name": "stdout",
     "output_type": "stream",
     "text": [
      "a =\n",
      " [[ 0  1  2  3  4]\n",
      " [ 5  6  7  8  9]\n",
      " [10 11 12 13 14]\n",
      " [15 16 17 18 19]\n",
      " [20 21 22 23 24]] \n",
      "\n",
      "b =\n",
      " [[ 0  2  4  6  8]\n",
      " [10 12 14 16 18]\n",
      " [20 22 24 26 28]\n",
      " [30 32 34 36 38]\n",
      " [40 42 44 46 48]] \n",
      "\n",
      "Apilamiento por filas =\n",
      " [[ 0  1  2  3  4]\n",
      " [ 5  6  7  8  9]\n",
      " [10 11 12 13 14]\n",
      " [15 16 17 18 19]\n",
      " [20 21 22 23 24]\n",
      " [ 0  2  4  6  8]\n",
      " [10 12 14 16 18]\n",
      " [20 22 24 26 28]\n",
      " [30 32 34 36 38]\n",
      " [40 42 44 46 48]]\n"
     ]
    }
   ],
   "source": [
    "# APILAMIENTO POR FILAS\n",
    "# El apilamiento por fila es similar a vstack()\n",
    "# Se apilan las filas, de arriba hacia abajo, y tomándolas \n",
    "# de los bloques definidos en la matriz\n",
    "# Matrices origen \n",
    "print('a =\\n', a, '\\n') \n",
    "print('b =\\n', b, '\\n')\n",
    "# Apilamiento vertical \n",
    "print( 'Apilamiento por filas =\\n', np.row_stack((a,b)) )"
   ]
  },
  {
   "cell_type": "code",
   "execution_count": 64,
   "metadata": {},
   "outputs": [],
   "source": [
    "# DIVISIÓN DE ARRAYS\n",
    "# Las matrices se pueden dividir vertical, horizontalmente o en profundidad. \n",
    "# Las funciones involucradas son hsplit, vsplit, dsplit y split. \n",
    "# Podemos hacer divisiones de las matrices utilizando su estructura inicial \n",
    "# o hacerlo indicando la posición después de la cual debe ocurrir la división"
   ]
  },
  {
   "cell_type": "code",
   "execution_count": 65,
   "metadata": {},
   "outputs": [
    {
     "name": "stdout",
     "output_type": "stream",
     "text": [
      "[[ 0  1  2  3  4]\n",
      " [ 5  6  7  8  9]\n",
      " [10 11 12 13 14]\n",
      " [15 16 17 18 19]\n",
      " [20 21 22 23 24]] \n",
      "\n",
      "Array con división horizontal =\n",
      " [array([[ 0],\n",
      "       [ 5],\n",
      "       [10],\n",
      "       [15],\n",
      "       [20]]), array([[ 1],\n",
      "       [ 6],\n",
      "       [11],\n",
      "       [16],\n",
      "       [21]]), array([[ 2],\n",
      "       [ 7],\n",
      "       [12],\n",
      "       [17],\n",
      "       [22]]), array([[ 3],\n",
      "       [ 8],\n",
      "       [13],\n",
      "       [18],\n",
      "       [23]]), array([[ 4],\n",
      "       [ 9],\n",
      "       [14],\n",
      "       [19],\n",
      "       [24]])] \n",
      "\n",
      "Array con división horizontal, uso de split() =\n",
      " [array([[ 0],\n",
      "       [ 5],\n",
      "       [10],\n",
      "       [15],\n",
      "       [20]]), array([[ 1],\n",
      "       [ 6],\n",
      "       [11],\n",
      "       [16],\n",
      "       [21]]), array([[ 2],\n",
      "       [ 7],\n",
      "       [12],\n",
      "       [17],\n",
      "       [22]]), array([[ 3],\n",
      "       [ 8],\n",
      "       [13],\n",
      "       [18],\n",
      "       [23]]), array([[ 4],\n",
      "       [ 9],\n",
      "       [14],\n",
      "       [19],\n",
      "       [24]])]\n"
     ]
    }
   ],
   "source": [
    "# DIVISIÓN HORIZONTAL\n",
    "print(a, '\\n')\n",
    "# El código resultante divide una matriz a lo largo de su eje horizontal \n",
    "# en tres piezas del mismo tamaño y forma: \n",
    "print('Array con división horizontal =\\n', np.hsplit(a, 5), '\\n')\n",
    "# El mismo efecto se consigue con split() y utilizando una bandera a 1 \n",
    "print('Array con división horizontal, uso de split() =\\n', np.split(a, 5, axis=1))"
   ]
  },
  {
   "cell_type": "code",
   "execution_count": 66,
   "metadata": {},
   "outputs": [
    {
     "name": "stdout",
     "output_type": "stream",
     "text": [
      "[[ 0  1  2  3  4]\n",
      " [ 5  6  7  8  9]\n",
      " [10 11 12 13 14]\n",
      " [15 16 17 18 19]\n",
      " [20 21 22 23 24]] \n",
      "\n",
      "División Vertical = \n",
      " [array([[0, 1, 2, 3, 4]]), array([[5, 6, 7, 8, 9]]), array([[10, 11, 12, 13, 14]]), array([[15, 16, 17, 18, 19]]), array([[20, 21, 22, 23, 24]])] \n",
      "\n",
      "Array con división vertical, uso de split() =\n",
      " [array([[0, 1, 2, 3, 4]]), array([[5, 6, 7, 8, 9]]), array([[10, 11, 12, 13, 14]]), array([[15, 16, 17, 18, 19]]), array([[20, 21, 22, 23, 24]])]\n"
     ]
    }
   ],
   "source": [
    "# DIVISIÓN VERTICAL\n",
    "print(a, '\\n')\n",
    "# La función vsplit divide el array a lo largo del eje vertical: \n",
    "print('División Vertical = \\n', np.vsplit(a, 5), '\\n')\n",
    "# El mismo efecto se consigue con split() y utilizando una bandera a 0 \n",
    "print('Array con división vertical, uso de split() =\\n', np.split(a, 5, axis=0))\n"
   ]
  },
  {
   "cell_type": "code",
   "execution_count": 67,
   "metadata": {},
   "outputs": [
    {
     "name": "stdout",
     "output_type": "stream",
     "text": [
      "[[[ 0  1  2  3]\n",
      "  [ 4  5  6  7]\n",
      "  [ 8  9 10 11]\n",
      "  [12 13 14 15]]\n",
      "\n",
      " [[16 17 18 19]\n",
      "  [20 21 22 23]\n",
      "  [24 25 26 27]\n",
      "  [28 29 30 31]]\n",
      "\n",
      " [[32 33 34 35]\n",
      "  [36 37 38 39]\n",
      "  [40 41 42 43]\n",
      "  [44 45 46 47]]\n",
      "\n",
      " [[48 49 50 51]\n",
      "  [52 53 54 55]\n",
      "  [56 57 58 59]\n",
      "  [60 61 62 63]]] \n",
      "\n",
      "División en profundidad =\n",
      " [array([[[ 0],\n",
      "        [ 4],\n",
      "        [ 8],\n",
      "        [12]],\n",
      "\n",
      "       [[16],\n",
      "        [20],\n",
      "        [24],\n",
      "        [28]],\n",
      "\n",
      "       [[32],\n",
      "        [36],\n",
      "        [40],\n",
      "        [44]],\n",
      "\n",
      "       [[48],\n",
      "        [52],\n",
      "        [56],\n",
      "        [60]]]), array([[[ 1],\n",
      "        [ 5],\n",
      "        [ 9],\n",
      "        [13]],\n",
      "\n",
      "       [[17],\n",
      "        [21],\n",
      "        [25],\n",
      "        [29]],\n",
      "\n",
      "       [[33],\n",
      "        [37],\n",
      "        [41],\n",
      "        [45]],\n",
      "\n",
      "       [[49],\n",
      "        [53],\n",
      "        [57],\n",
      "        [61]]]), array([[[ 2],\n",
      "        [ 6],\n",
      "        [10],\n",
      "        [14]],\n",
      "\n",
      "       [[18],\n",
      "        [22],\n",
      "        [26],\n",
      "        [30]],\n",
      "\n",
      "       [[34],\n",
      "        [38],\n",
      "        [42],\n",
      "        [46]],\n",
      "\n",
      "       [[50],\n",
      "        [54],\n",
      "        [58],\n",
      "        [62]]]), array([[[ 3],\n",
      "        [ 7],\n",
      "        [11],\n",
      "        [15]],\n",
      "\n",
      "       [[19],\n",
      "        [23],\n",
      "        [27],\n",
      "        [31]],\n",
      "\n",
      "       [[35],\n",
      "        [39],\n",
      "        [43],\n",
      "        [47]],\n",
      "\n",
      "       [[51],\n",
      "        [55],\n",
      "        [59],\n",
      "        [63]]])] \n",
      "\n"
     ]
    }
   ],
   "source": [
    "# DIVISIÓN EN PROFUNDIDAD\n",
    "# La función dsplit, como era de esperarse, realiza división \n",
    "# en profundidad dentro del array\n",
    "# Para ilustrar con un ejemplo, utilizaremos una matriz de rango tres \n",
    "c = np.arange(64).reshape(4, 4, 4)\n",
    "print(c, '\\n')\n",
    "# Se realiza la división \n",
    "print('División en profundidad =\\n', np.dsplit(c,4), '\\n')"
   ]
  },
  {
   "cell_type": "code",
   "execution_count": 68,
   "metadata": {},
   "outputs": [],
   "source": [
    "# PROPIEDADES DE LOS ARRAYS"
   ]
  },
  {
   "cell_type": "code",
   "execution_count": 69,
   "metadata": {},
   "outputs": [
    {
     "name": "stdout",
     "output_type": "stream",
     "text": [
      "[[ 0  2  4  6  8]\n",
      " [10 12 14 16 18]\n",
      " [20 22 24 26 28]\n",
      " [30 32 34 36 38]\n",
      " [40 42 44 46 48]] \n",
      "\n",
      "ndim:  2\n"
     ]
    }
   ],
   "source": [
    "# El atributo ndim calcula el número de dimensiones\n",
    "print(b, '\\n') \n",
    "print('ndim: ', b.ndim)"
   ]
  },
  {
   "cell_type": "code",
   "execution_count": 70,
   "metadata": {},
   "outputs": [
    {
     "name": "stdout",
     "output_type": "stream",
     "text": [
      "[[ 0  2  4  6  8]\n",
      " [10 12 14 16 18]\n",
      " [20 22 24 26 28]\n",
      " [30 32 34 36 38]\n",
      " [40 42 44 46 48]] \n",
      "\n",
      "size:  25\n"
     ]
    }
   ],
   "source": [
    "# El atributo size calcula el número de elementos\n",
    "print(b, '\\n') \n",
    "print('size: ', b.size)"
   ]
  },
  {
   "cell_type": "code",
   "execution_count": 71,
   "metadata": {},
   "outputs": [
    {
     "name": "stdout",
     "output_type": "stream",
     "text": [
      "itemsize:  4\n"
     ]
    }
   ],
   "source": [
    "# El atributo itemsize obtiene el número de bytes por cada\n",
    "# elemento en el array\n",
    "print('itemsize: ', b.itemsize)"
   ]
  },
  {
   "cell_type": "code",
   "execution_count": 72,
   "metadata": {},
   "outputs": [
    {
     "name": "stdout",
     "output_type": "stream",
     "text": [
      "[[ 0  2  4  6  8]\n",
      " [10 12 14 16 18]\n",
      " [20 22 24 26 28]\n",
      " [30 32 34 36 38]\n",
      " [40 42 44 46 48]] \n",
      "\n",
      "nbytes:  100 \n",
      "\n",
      "nbytes equivalente:  100\n"
     ]
    }
   ],
   "source": [
    " # El atributo nbytes calcula el número total de bytes del array\n",
    "print(b, '\\n')\n",
    "print('nbytes: ', b.nbytes, '\\n')\n",
    "# Es equivalente a la siguiente operación \n",
    "print('nbytes equivalente: ', b.size * b.itemsize)"
   ]
  },
  {
   "cell_type": "code",
   "execution_count": 73,
   "metadata": {},
   "outputs": [
    {
     "name": "stdout",
     "output_type": "stream",
     "text": [
      "[[ 0  2  4  6]\n",
      " [ 8 10 12 14]\n",
      " [16 18 20 22]\n",
      " [24 26 28 30]\n",
      " [32 34 36 38]\n",
      " [40 42 44 46]] \n",
      "\n",
      "Transpuesta: \n",
      " [[ 0  8 16 24 32 40]\n",
      " [ 2 10 18 26 34 42]\n",
      " [ 4 12 20 28 36 44]\n",
      " [ 6 14 22 30 38 46]]\n"
     ]
    }
   ],
   "source": [
    "# El atributo T tiene el mismo efecto que la transpuesta de la matriz\n",
    "b.resize(6,4)\n",
    "print(b, '\\n')\n",
    "print('Transpuesta: \\n', b.T)"
   ]
  },
  {
   "cell_type": "code",
   "execution_count": 74,
   "metadata": {},
   "outputs": [
    {
     "name": "stdout",
     "output_type": "stream",
     "text": [
      "Complejo: \n",
      " [1.+1.j 3.+2.j]\n"
     ]
    }
   ],
   "source": [
    "# Los números complejos en numpy se representan con j\n",
    "b = np.array([1.j + 1, 2.j + 3])\n",
    "print('Complejo: \\n', b)"
   ]
  },
  {
   "cell_type": "code",
   "execution_count": 75,
   "metadata": {},
   "outputs": [
    {
     "name": "stdout",
     "output_type": "stream",
     "text": [
      "real:  [1. 3.] \n",
      "\n",
      "imaginario:  [1. 2.]\n"
     ]
    }
   ],
   "source": [
    "# El atributo real nos da la parte real del array,\n",
    "# o el array en sí mismo si solo contiene números reales\n",
    "print('real: ', b.real, '\\n')\n",
    "# El atributo imag contiene la parte imaginaria del array\n",
    "print('imaginario: ', b.imag)"
   ]
  },
  {
   "cell_type": "code",
   "execution_count": 76,
   "metadata": {},
   "outputs": [
    {
     "name": "stdout",
     "output_type": "stream",
     "text": [
      "complex128\n"
     ]
    }
   ],
   "source": [
    "# Si el array contiene números complejos, entonces el tipo de datos\n",
    "# se convierte automáticamente a complejo\n",
    "print(b.dtype)"
   ]
  },
  {
   "cell_type": "code",
   "execution_count": 77,
   "metadata": {},
   "outputs": [
    {
     "name": "stdout",
     "output_type": "stream",
     "text": [
      "[[0 1 2]\n",
      " [3 4 5]\n",
      " [6 7 8]] \n",
      "\n",
      "<numpy.flatiter object at 0x00000131A3A76F70> \n",
      "\n",
      "0\n",
      "1\n",
      "2\n",
      "3\n",
      "4\n",
      "5\n",
      "6\n",
      "7\n",
      "8\n",
      "\n",
      "\n",
      "Elemento 5:  5\n",
      "[[5 5 5]\n",
      " [5 5 5]\n",
      " [5 5 5]] \n",
      "\n",
      "[[5 1 5]\n",
      " [5 5 1]\n",
      " [5 5 5]] \n",
      "\n"
     ]
    }
   ],
   "source": [
    "# El atributo flat devuelve un objeto numpy.flatiter.\n",
    "# Esta es la única forma de adquirir un flatiter: \n",
    "# no tenemos acceso a un constructor de flatiter. \n",
    "# El apartamento El iterador nos permite recorrer una matriz \n",
    "# como si fuera una matriz plana, como se muestra a continuación:\n",
    "# En el siguiente ejemplo se clarifica este concepto\n",
    "b = np.arange(9).reshape(3,3)\n",
    "print(b, '\\n')\n",
    "f = b.flat \n",
    "print(f, '\\n')\n",
    "# Ciclo que itera a lo largo de f \n",
    "for item in f: \n",
    "    print (item)\n",
    "# Selección de un elemento \n",
    "print('\\n')\n",
    "print('Elemento 5: ', b.flat[5])\n",
    "# Operaciones directas con flat \n",
    "b.flat = 5 \n",
    "print(b, '\\n')\n",
    "b.flat[[1,5]] = 1\n",
    "print(b, '\\n')"
   ]
  }
 ],
 "metadata": {
  "kernelspec": {
   "display_name": "Python 3",
   "language": "python",
   "name": "python3"
  },
  "language_info": {
   "codemirror_mode": {
    "name": "ipython",
    "version": 3
   },
   "file_extension": ".py",
   "mimetype": "text/x-python",
   "name": "python",
   "nbconvert_exporter": "python",
   "pygments_lexer": "ipython3",
   "version": "3.8.3"
  }
 },
 "nbformat": 4,
 "nbformat_minor": 4
}
